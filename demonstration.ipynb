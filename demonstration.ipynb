{
 "cells": [
  {
   "cell_type": "markdown",
   "metadata": {},
   "source": [
    "<h3>Setting up our environment</h3>"
   ]
  },
  {
   "cell_type": "code",
   "execution_count": 1,
   "metadata": {},
   "outputs": [],
   "source": [
    "import pandas as pd\n",
    "import numpy as np\n",
    "from easyutils import Dataframe_Inspector,Data_Preprocessor,Data_Decomposer\n",
    "\n",
    "from tensorflow import keras\n",
    "from sklearn.model_selection import train_test_split"
   ]
  },
  {
   "cell_type": "markdown",
   "metadata": {},
   "source": [
    "<h4>These are our three classes, which are Dataframe_Inspector , Data_Preprocessor , Data_Decomposer</h4>"
   ]
  },
  {
   "cell_type": "code",
   "execution_count": 77,
   "metadata": {},
   "outputs": [],
   "source": [
    "inspector=Dataframe_Inspector()\n",
    "preprocessor=Data_Preprocessor()\n",
    "decomposer=Data_Decomposer()"
   ]
  },
  {
   "cell_type": "markdown",
   "metadata": {},
   "source": [
    "<h3>Preliminary Examination of the dataset</h3>"
   ]
  },
  {
   "cell_type": "code",
   "execution_count": 3,
   "metadata": {},
   "outputs": [],
   "source": [
    "df=pd.read_csv(\"Employee.csv\")"
   ]
  },
  {
   "cell_type": "markdown",
   "metadata": {},
   "source": [
    "<h4>Insepector.inspect(dataframe) allows us to do a simple check of the dataframe for any initial anomalies</h4>"
   ]
  },
  {
   "cell_type": "code",
   "execution_count": 4,
   "metadata": {},
   "outputs": [
    {
     "name": "stdout",
     "output_type": "stream",
     "text": [
      "NaN Values: 0\n",
      "Duplicate Rows: 1889\n",
      "Constant Columns: 0\n",
      "High Missing Value Columns: 0\n"
     ]
    }
   ],
   "source": [
    "inspector.inspect(df)"
   ]
  },
  {
   "cell_type": "markdown",
   "metadata": {},
   "source": [
    "<h4>We have found out that some rows are duped in this dataframe, we will clean them now.</h4>"
   ]
  },
  {
   "cell_type": "code",
   "execution_count": 5,
   "metadata": {},
   "outputs": [],
   "source": [
    "df=df.drop_duplicates()"
   ]
  },
  {
   "cell_type": "code",
   "execution_count": 6,
   "metadata": {},
   "outputs": [
    {
     "name": "stdout",
     "output_type": "stream",
     "text": [
      "NaN Values: 0\n",
      "Duplicate Rows: 0\n",
      "Constant Columns: 0\n",
      "High Missing Value Columns: 0\n"
     ]
    }
   ],
   "source": [
    "inspector.inspect(df)"
   ]
  },
  {
   "cell_type": "markdown",
   "metadata": {},
   "source": [
    "<h4>As you can see duplicates are removed now Duplicates are removed now </h4>"
   ]
  },
  {
   "cell_type": "code",
   "execution_count": 7,
   "metadata": {},
   "outputs": [
    {
     "data": {
      "text/html": [
       "<div>\n",
       "<style scoped>\n",
       "    .dataframe tbody tr th:only-of-type {\n",
       "        vertical-align: middle;\n",
       "    }\n",
       "\n",
       "    .dataframe tbody tr th {\n",
       "        vertical-align: top;\n",
       "    }\n",
       "\n",
       "    .dataframe thead th {\n",
       "        text-align: right;\n",
       "    }\n",
       "</style>\n",
       "<table border=\"1\" class=\"dataframe\">\n",
       "  <thead>\n",
       "    <tr style=\"text-align: right;\">\n",
       "      <th></th>\n",
       "      <th>Education</th>\n",
       "      <th>JoiningYear</th>\n",
       "      <th>City</th>\n",
       "      <th>PaymentTier</th>\n",
       "      <th>Age</th>\n",
       "      <th>Gender</th>\n",
       "      <th>EverBenched</th>\n",
       "      <th>ExperienceInCurrentDomain</th>\n",
       "      <th>LeaveOrNot</th>\n",
       "    </tr>\n",
       "  </thead>\n",
       "  <tbody>\n",
       "    <tr>\n",
       "      <th>0</th>\n",
       "      <td>Bachelors</td>\n",
       "      <td>2017</td>\n",
       "      <td>Bangalore</td>\n",
       "      <td>3</td>\n",
       "      <td>34</td>\n",
       "      <td>Male</td>\n",
       "      <td>No</td>\n",
       "      <td>0</td>\n",
       "      <td>0</td>\n",
       "    </tr>\n",
       "    <tr>\n",
       "      <th>1</th>\n",
       "      <td>Bachelors</td>\n",
       "      <td>2013</td>\n",
       "      <td>Pune</td>\n",
       "      <td>1</td>\n",
       "      <td>28</td>\n",
       "      <td>Female</td>\n",
       "      <td>No</td>\n",
       "      <td>3</td>\n",
       "      <td>1</td>\n",
       "    </tr>\n",
       "    <tr>\n",
       "      <th>2</th>\n",
       "      <td>Bachelors</td>\n",
       "      <td>2014</td>\n",
       "      <td>New Delhi</td>\n",
       "      <td>3</td>\n",
       "      <td>38</td>\n",
       "      <td>Female</td>\n",
       "      <td>No</td>\n",
       "      <td>2</td>\n",
       "      <td>0</td>\n",
       "    </tr>\n",
       "    <tr>\n",
       "      <th>3</th>\n",
       "      <td>Masters</td>\n",
       "      <td>2016</td>\n",
       "      <td>Bangalore</td>\n",
       "      <td>3</td>\n",
       "      <td>27</td>\n",
       "      <td>Male</td>\n",
       "      <td>No</td>\n",
       "      <td>5</td>\n",
       "      <td>1</td>\n",
       "    </tr>\n",
       "    <tr>\n",
       "      <th>4</th>\n",
       "      <td>Masters</td>\n",
       "      <td>2017</td>\n",
       "      <td>Pune</td>\n",
       "      <td>3</td>\n",
       "      <td>24</td>\n",
       "      <td>Male</td>\n",
       "      <td>Yes</td>\n",
       "      <td>2</td>\n",
       "      <td>1</td>\n",
       "    </tr>\n",
       "  </tbody>\n",
       "</table>\n",
       "</div>"
      ],
      "text/plain": [
       "   Education  JoiningYear       City  PaymentTier  Age  Gender EverBenched  \\\n",
       "0  Bachelors         2017  Bangalore            3   34    Male          No   \n",
       "1  Bachelors         2013       Pune            1   28  Female          No   \n",
       "2  Bachelors         2014  New Delhi            3   38  Female          No   \n",
       "3    Masters         2016  Bangalore            3   27    Male          No   \n",
       "4    Masters         2017       Pune            3   24    Male         Yes   \n",
       "\n",
       "   ExperienceInCurrentDomain  LeaveOrNot  \n",
       "0                          0           0  \n",
       "1                          3           1  \n",
       "2                          2           0  \n",
       "3                          5           1  \n",
       "4                          2           1  "
      ]
     },
     "execution_count": 7,
     "metadata": {},
     "output_type": "execute_result"
    }
   ],
   "source": [
    "df.head(5)"
   ]
  },
  {
   "cell_type": "markdown",
   "metadata": {},
   "source": [
    "<h4>inspector.retrieve_labels(dataframe,columns) allows us to extract the label column from our dataframe,\n",
    "and deleting it from the dataframe at the same time.</h4>"
   ]
  },
  {
   "cell_type": "code",
   "execution_count": 8,
   "metadata": {},
   "outputs": [],
   "source": [
    "labels=inspector.retrieve_labels(df,\"LeaveOrNot\")"
   ]
  },
  {
   "cell_type": "code",
   "execution_count": 9,
   "metadata": {},
   "outputs": [
    {
     "data": {
      "text/html": [
       "<div>\n",
       "<style scoped>\n",
       "    .dataframe tbody tr th:only-of-type {\n",
       "        vertical-align: middle;\n",
       "    }\n",
       "\n",
       "    .dataframe tbody tr th {\n",
       "        vertical-align: top;\n",
       "    }\n",
       "\n",
       "    .dataframe thead th {\n",
       "        text-align: right;\n",
       "    }\n",
       "</style>\n",
       "<table border=\"1\" class=\"dataframe\">\n",
       "  <thead>\n",
       "    <tr style=\"text-align: right;\">\n",
       "      <th></th>\n",
       "      <th>Education</th>\n",
       "      <th>JoiningYear</th>\n",
       "      <th>City</th>\n",
       "      <th>PaymentTier</th>\n",
       "      <th>Age</th>\n",
       "      <th>Gender</th>\n",
       "      <th>EverBenched</th>\n",
       "      <th>ExperienceInCurrentDomain</th>\n",
       "    </tr>\n",
       "  </thead>\n",
       "  <tbody>\n",
       "    <tr>\n",
       "      <th>0</th>\n",
       "      <td>Bachelors</td>\n",
       "      <td>2017</td>\n",
       "      <td>Bangalore</td>\n",
       "      <td>3</td>\n",
       "      <td>34</td>\n",
       "      <td>Male</td>\n",
       "      <td>No</td>\n",
       "      <td>0</td>\n",
       "    </tr>\n",
       "    <tr>\n",
       "      <th>1</th>\n",
       "      <td>Bachelors</td>\n",
       "      <td>2013</td>\n",
       "      <td>Pune</td>\n",
       "      <td>1</td>\n",
       "      <td>28</td>\n",
       "      <td>Female</td>\n",
       "      <td>No</td>\n",
       "      <td>3</td>\n",
       "    </tr>\n",
       "    <tr>\n",
       "      <th>2</th>\n",
       "      <td>Bachelors</td>\n",
       "      <td>2014</td>\n",
       "      <td>New Delhi</td>\n",
       "      <td>3</td>\n",
       "      <td>38</td>\n",
       "      <td>Female</td>\n",
       "      <td>No</td>\n",
       "      <td>2</td>\n",
       "    </tr>\n",
       "    <tr>\n",
       "      <th>3</th>\n",
       "      <td>Masters</td>\n",
       "      <td>2016</td>\n",
       "      <td>Bangalore</td>\n",
       "      <td>3</td>\n",
       "      <td>27</td>\n",
       "      <td>Male</td>\n",
       "      <td>No</td>\n",
       "      <td>5</td>\n",
       "    </tr>\n",
       "    <tr>\n",
       "      <th>4</th>\n",
       "      <td>Masters</td>\n",
       "      <td>2017</td>\n",
       "      <td>Pune</td>\n",
       "      <td>3</td>\n",
       "      <td>24</td>\n",
       "      <td>Male</td>\n",
       "      <td>Yes</td>\n",
       "      <td>2</td>\n",
       "    </tr>\n",
       "  </tbody>\n",
       "</table>\n",
       "</div>"
      ],
      "text/plain": [
       "   Education  JoiningYear       City  PaymentTier  Age  Gender EverBenched  \\\n",
       "0  Bachelors         2017  Bangalore            3   34    Male          No   \n",
       "1  Bachelors         2013       Pune            1   28  Female          No   \n",
       "2  Bachelors         2014  New Delhi            3   38  Female          No   \n",
       "3    Masters         2016  Bangalore            3   27    Male          No   \n",
       "4    Masters         2017       Pune            3   24    Male         Yes   \n",
       "\n",
       "   ExperienceInCurrentDomain  \n",
       "0                          0  \n",
       "1                          3  \n",
       "2                          2  \n",
       "3                          5  \n",
       "4                          2  "
      ]
     },
     "execution_count": 9,
     "metadata": {},
     "output_type": "execute_result"
    }
   ],
   "source": [
    "df.head(5)"
   ]
  },
  {
   "cell_type": "code",
   "execution_count": 10,
   "metadata": {},
   "outputs": [],
   "source": [
    "df[\"JoiningYear\"]=2023-df[\"JoiningYear\"] \n",
    "df.rename(columns={\"JoiningYear\":\"YearsSinceJoined\"},inplace=True)"
   ]
  },
  {
   "cell_type": "code",
   "execution_count": 78,
   "metadata": {},
   "outputs": [
    {
     "data": {
      "text/html": [
       "<div>\n",
       "<style scoped>\n",
       "    .dataframe tbody tr th:only-of-type {\n",
       "        vertical-align: middle;\n",
       "    }\n",
       "\n",
       "    .dataframe tbody tr th {\n",
       "        vertical-align: top;\n",
       "    }\n",
       "\n",
       "    .dataframe thead th {\n",
       "        text-align: right;\n",
       "    }\n",
       "</style>\n",
       "<table border=\"1\" class=\"dataframe\">\n",
       "  <thead>\n",
       "    <tr style=\"text-align: right;\">\n",
       "      <th></th>\n",
       "      <th>Education</th>\n",
       "      <th>YearsSinceJoined</th>\n",
       "      <th>City</th>\n",
       "      <th>PaymentTier</th>\n",
       "      <th>Age</th>\n",
       "      <th>Gender</th>\n",
       "      <th>EverBenched</th>\n",
       "      <th>ExperienceInCurrentDomain</th>\n",
       "    </tr>\n",
       "  </thead>\n",
       "  <tbody>\n",
       "    <tr>\n",
       "      <th>0</th>\n",
       "      <td>Bachelors</td>\n",
       "      <td>6</td>\n",
       "      <td>Bangalore</td>\n",
       "      <td>3</td>\n",
       "      <td>34</td>\n",
       "      <td>Male</td>\n",
       "      <td>No</td>\n",
       "      <td>0</td>\n",
       "    </tr>\n",
       "    <tr>\n",
       "      <th>1</th>\n",
       "      <td>Bachelors</td>\n",
       "      <td>10</td>\n",
       "      <td>Pune</td>\n",
       "      <td>1</td>\n",
       "      <td>28</td>\n",
       "      <td>Female</td>\n",
       "      <td>No</td>\n",
       "      <td>3</td>\n",
       "    </tr>\n",
       "    <tr>\n",
       "      <th>2</th>\n",
       "      <td>Bachelors</td>\n",
       "      <td>9</td>\n",
       "      <td>New Delhi</td>\n",
       "      <td>3</td>\n",
       "      <td>38</td>\n",
       "      <td>Female</td>\n",
       "      <td>No</td>\n",
       "      <td>2</td>\n",
       "    </tr>\n",
       "    <tr>\n",
       "      <th>3</th>\n",
       "      <td>Masters</td>\n",
       "      <td>7</td>\n",
       "      <td>Bangalore</td>\n",
       "      <td>3</td>\n",
       "      <td>27</td>\n",
       "      <td>Male</td>\n",
       "      <td>No</td>\n",
       "      <td>5</td>\n",
       "    </tr>\n",
       "    <tr>\n",
       "      <th>4</th>\n",
       "      <td>Masters</td>\n",
       "      <td>6</td>\n",
       "      <td>Pune</td>\n",
       "      <td>3</td>\n",
       "      <td>24</td>\n",
       "      <td>Male</td>\n",
       "      <td>Yes</td>\n",
       "      <td>2</td>\n",
       "    </tr>\n",
       "  </tbody>\n",
       "</table>\n",
       "</div>"
      ],
      "text/plain": [
       "   Education  YearsSinceJoined       City  PaymentTier  Age  Gender  \\\n",
       "0  Bachelors                 6  Bangalore            3   34    Male   \n",
       "1  Bachelors                10       Pune            1   28  Female   \n",
       "2  Bachelors                 9  New Delhi            3   38  Female   \n",
       "3    Masters                 7  Bangalore            3   27    Male   \n",
       "4    Masters                 6       Pune            3   24    Male   \n",
       "\n",
       "  EverBenched  ExperienceInCurrentDomain  \n",
       "0          No                          0  \n",
       "1          No                          3  \n",
       "2          No                          2  \n",
       "3          No                          5  \n",
       "4         Yes                          2  "
      ]
     },
     "execution_count": 78,
     "metadata": {},
     "output_type": "execute_result"
    }
   ],
   "source": [
    "df.head(5)"
   ]
  },
  {
   "cell_type": "markdown",
   "metadata": {},
   "source": [
    "<h2>Now I will tell you about the best approach to use this module which utilizes sklearn.\n",
    " <br> We will retrieve column names and information for each datatype in  our data. \n",
    " <br> Then, We will use the Data_Preprocessor class to work on each category at a time  </h2>\n",
    "\n",
    "\n",
    "\n",
    "<h3>Now we will retrieve the column names and their info which is categorized by datatypes</h3>"
   ]
  },
  {
   "cell_type": "code",
   "execution_count": 12,
   "metadata": {},
   "outputs": [],
   "source": [
    "numeric_info,object_info,boolean_info,misc_info=inspector.retrieve_column_info(df)"
   ]
  },
  {
   "cell_type": "code",
   "execution_count": 13,
   "metadata": {},
   "outputs": [],
   "source": [
    "numeric_cols,object_cols,boolean_cols,misc_cols=inspector.retrieve_column_types(df)"
   ]
  },
  {
   "cell_type": "markdown",
   "metadata": {},
   "source": [
    "<h3>Now we can work on columns of each type one by one. <br<> We will start With the numeric data </h3>"
   ]
  },
  {
   "cell_type": "code",
   "execution_count": 14,
   "metadata": {},
   "outputs": [
    {
     "data": {
      "text/plain": [
       "['YearsSinceJoined', 'PaymentTier', 'Age', 'ExperienceInCurrentDomain']"
      ]
     },
     "execution_count": 14,
     "metadata": {},
     "output_type": "execute_result"
    }
   ],
   "source": [
    "numeric_cols"
   ]
  },
  {
   "cell_type": "code",
   "execution_count": 15,
   "metadata": {},
   "outputs": [
    {
     "name": "stdout",
     "output_type": "stream",
     "text": [
      "Numeric Columns:\n",
      "  Column: YearsSinceJoined\n",
      "  Datatype: int64\n",
      "  Min: 5\n",
      "  Max: 11\n",
      "  Mean: 7.909551374819102\n",
      "  Median: 8.0\n",
      "  Mode: 6\n",
      "\n",
      "  Column: PaymentTier\n",
      "  Datatype: int64\n",
      "  Min: 1\n",
      "  Max: 3\n",
      "  Mean: 2.6360347322720696\n",
      "  Median: 3.0\n",
      "  Mode: 3\n",
      "\n",
      "  Column: Age\n",
      "  Datatype: int64\n",
      "  Min: 22\n",
      "  Max: 41\n",
      "  Mean: 30.952966714905934\n",
      "  Median: 30.0\n",
      "  Mode: 28\n",
      "\n",
      "  Column: ExperienceInCurrentDomain\n",
      "  Datatype: int64\n",
      "  Min: 0\n",
      "  Max: 7\n",
      "  Mean: 2.644356005788712\n",
      "  Median: 2.0\n",
      "  Mode: 2\n",
      "\n",
      "\n"
     ]
    }
   ],
   "source": [
    "print(numeric_info)"
   ]
  },
  {
   "cell_type": "code",
   "execution_count": 16,
   "metadata": {},
   "outputs": [
    {
     "name": "stdout",
     "output_type": "stream",
     "text": [
      "MinMaxScaler dumped to: preprocessing_files/minmaxscaler.pkl\n",
      "\n"
     ]
    }
   ],
   "source": [
    "encoded_numeric_columns=preprocessor.apply_and_save(method=\"MinMaxScaler\",\n",
    "                                                    data_array=np.array(df[numeric_cols]),\n",
    "                                                    save_location_pkl=\"preprocessing_files/minmaxscaler.pkl\")"
   ]
  },
  {
   "cell_type": "code",
   "execution_count": 17,
   "metadata": {},
   "outputs": [
    {
     "data": {
      "text/plain": [
       "array([[0.16666667, 1.        , 0.63157895, 0.        ],\n",
       "       [0.83333333, 0.        , 0.31578947, 0.42857143],\n",
       "       [0.66666667, 1.        , 0.84210526, 0.28571429],\n",
       "       ...,\n",
       "       [0.83333333, 0.5       , 0.78947368, 0.28571429],\n",
       "       [0.        , 1.        , 0.26315789, 0.71428571],\n",
       "       [1.        , 1.        , 0.42105263, 0.28571429]])"
      ]
     },
     "execution_count": 17,
     "metadata": {},
     "output_type": "execute_result"
    }
   ],
   "source": [
    "encoded_numeric_columns"
   ]
  },
  {
   "cell_type": "code",
   "execution_count": 18,
   "metadata": {},
   "outputs": [
    {
     "data": {
      "text/plain": [
       "(2764, 4)"
      ]
     },
     "execution_count": 18,
     "metadata": {},
     "output_type": "execute_result"
    }
   ],
   "source": [
    "encoded_numeric_columns.shape"
   ]
  },
  {
   "cell_type": "markdown",
   "metadata": {},
   "source": [
    "<h3>WE move on our object-type categorical Data </h3>"
   ]
  },
  {
   "cell_type": "code",
   "execution_count": 19,
   "metadata": {},
   "outputs": [
    {
     "data": {
      "text/plain": [
       "['Education', 'City']"
      ]
     },
     "execution_count": 19,
     "metadata": {},
     "output_type": "execute_result"
    }
   ],
   "source": [
    "object_cols"
   ]
  },
  {
   "cell_type": "code",
   "execution_count": 20,
   "metadata": {},
   "outputs": [
    {
     "name": "stdout",
     "output_type": "stream",
     "text": [
      "Object Columns:\n",
      "  Column: Education\n",
      "  Datatype: object\n",
      "  Unique Values: ['Bachelors' 'Masters' 'PHD']\n",
      "\n",
      "  Column: City\n",
      "  Datatype: object\n",
      "  Unique Values: ['Bangalore' 'Pune' 'New Delhi']\n",
      "\n",
      "\n"
     ]
    }
   ],
   "source": [
    "print(object_info)"
   ]
  },
  {
   "cell_type": "code",
   "execution_count": 21,
   "metadata": {},
   "outputs": [
    {
     "name": "stdout",
     "output_type": "stream",
     "text": [
      "OneHotEncoder Categories: \n",
      " [array(['Bachelors', 'Masters', 'PHD'], dtype=object), array(['Bangalore', 'New Delhi', 'Pune'], dtype=object)]\n",
      "\n",
      "\n",
      "OneHotEncoder dumped to: preprocessing_files/onehotencoder.pkl\n",
      "\n"
     ]
    }
   ],
   "source": [
    "encoded_object_columns=preprocessor.apply_and_save(method=\"OneHotEncoder\",\n",
    "                                                    data_array=np.array(df[object_cols]),\n",
    "                                                    save_location_pkl=\"preprocessing_files/onehotencoder.pkl\")"
   ]
  },
  {
   "cell_type": "code",
   "execution_count": 22,
   "metadata": {},
   "outputs": [
    {
     "data": {
      "text/plain": [
       "array([[1., 0., 0., 1., 0., 0.],\n",
       "       [1., 0., 0., 0., 0., 1.],\n",
       "       [1., 0., 0., 0., 1., 0.],\n",
       "       ...,\n",
       "       [0., 1., 0., 0., 0., 1.],\n",
       "       [0., 1., 0., 0., 1., 0.],\n",
       "       [1., 0., 0., 1., 0., 0.]])"
      ]
     },
     "execution_count": 22,
     "metadata": {},
     "output_type": "execute_result"
    }
   ],
   "source": [
    "encoded_object_columns"
   ]
  },
  {
   "cell_type": "code",
   "execution_count": 23,
   "metadata": {},
   "outputs": [
    {
     "data": {
      "text/plain": [
       "(2764, 6)"
      ]
     },
     "execution_count": 23,
     "metadata": {},
     "output_type": "execute_result"
    }
   ],
   "source": [
    "encoded_object_columns.shape"
   ]
  },
  {
   "cell_type": "markdown",
   "metadata": {},
   "source": [
    "<h3>Now we move on to our boolean data </h3>"
   ]
  },
  {
   "cell_type": "code",
   "execution_count": 24,
   "metadata": {},
   "outputs": [
    {
     "data": {
      "text/plain": [
       "['Gender', 'EverBenched']"
      ]
     },
     "execution_count": 24,
     "metadata": {},
     "output_type": "execute_result"
    }
   ],
   "source": [
    "boolean_cols"
   ]
  },
  {
   "cell_type": "code",
   "execution_count": 25,
   "metadata": {},
   "outputs": [
    {
     "name": "stdout",
     "output_type": "stream",
     "text": [
      "Boolean Columns:\n",
      "  Column: Gender\n",
      "  Datatype: Boolean\n",
      "  Unique Values: ['Male' 'Female']\n",
      "\n",
      "  Column: EverBenched\n",
      "  Datatype: Boolean\n",
      "  Unique Values: ['No' 'Yes']\n",
      "\n",
      "\n"
     ]
    }
   ],
   "source": [
    "print(boolean_info)"
   ]
  },
  {
   "cell_type": "code",
   "execution_count": 26,
   "metadata": {},
   "outputs": [],
   "source": [
    "encoded_gender=preprocessor.assign_binary(data_array=np.array(df[\"Gender\"]),one_class=\"Male\",zero_class=\"Female\")"
   ]
  },
  {
   "cell_type": "code",
   "execution_count": 27,
   "metadata": {},
   "outputs": [
    {
     "data": {
      "text/plain": [
       "array([1, 0, 0, ..., 1, 1, 1])"
      ]
     },
     "execution_count": 27,
     "metadata": {},
     "output_type": "execute_result"
    }
   ],
   "source": [
    "encoded_gender"
   ]
  },
  {
   "cell_type": "code",
   "execution_count": 28,
   "metadata": {},
   "outputs": [
    {
     "data": {
      "text/plain": [
       "(2764,)"
      ]
     },
     "execution_count": 28,
     "metadata": {},
     "output_type": "execute_result"
    }
   ],
   "source": [
    "encoded_gender.shape"
   ]
  },
  {
   "cell_type": "code",
   "execution_count": 29,
   "metadata": {},
   "outputs": [],
   "source": [
    "encoded_EverBenched=preprocessor.assign_binary(data_array=np.array(df[\"EverBenched\"]),one_class=\"Yes\",zero_class=\"No\")"
   ]
  },
  {
   "cell_type": "code",
   "execution_count": 30,
   "metadata": {},
   "outputs": [
    {
     "data": {
      "text/plain": [
       "array([0, 0, 0, ..., 0, 0, 1])"
      ]
     },
     "execution_count": 30,
     "metadata": {},
     "output_type": "execute_result"
    }
   ],
   "source": [
    "encoded_EverBenched"
   ]
  },
  {
   "cell_type": "code",
   "execution_count": 31,
   "metadata": {},
   "outputs": [
    {
     "data": {
      "text/plain": [
       "(2764,)"
      ]
     },
     "execution_count": 31,
     "metadata": {},
     "output_type": "execute_result"
    }
   ],
   "source": [
    "encoded_EverBenched.shape"
   ]
  },
  {
   "cell_type": "markdown",
   "metadata": {},
   "source": [
    "<h3>Now we will combine our encoded data arrays into one </h3>"
   ]
  },
  {
   "cell_type": "code",
   "execution_count": 32,
   "metadata": {},
   "outputs": [
    {
     "name": "stdout",
     "output_type": "stream",
     "text": [
      "['YearsSinceJoined', 'PaymentTier', 'Age', 'ExperienceInCurrentDomain', 'Education', 'City', 'Gender', 'EverBenched']\n"
     ]
    }
   ],
   "source": [
    "print(numeric_cols+object_cols+boolean_cols)"
   ]
  },
  {
   "cell_type": "code",
   "execution_count": 33,
   "metadata": {},
   "outputs": [],
   "source": [
    "encoded_combined_data=np.concatenate((encoded_numeric_columns,encoded_object_columns,encoded_gender[:,np.newaxis],encoded_EverBenched[:,np.newaxis]),axis=1)"
   ]
  },
  {
   "cell_type": "code",
   "execution_count": 34,
   "metadata": {},
   "outputs": [
    {
     "data": {
      "text/plain": [
       "(2764, 12)"
      ]
     },
     "execution_count": 34,
     "metadata": {},
     "output_type": "execute_result"
    }
   ],
   "source": [
    "encoded_combined_data.shape"
   ]
  },
  {
   "cell_type": "code",
   "execution_count": 35,
   "metadata": {},
   "outputs": [
    {
     "data": {
      "text/plain": [
       "array([0.83333333, 0.        , 0.31578947, 0.42857143, 1.        ,\n",
       "       0.        , 0.        , 0.        , 0.        , 1.        ,\n",
       "       0.        , 0.        ])"
      ]
     },
     "execution_count": 35,
     "metadata": {},
     "output_type": "execute_result"
    }
   ],
   "source": [
    "encoded_combined_data[1]"
   ]
  },
  {
   "cell_type": "markdown",
   "metadata": {},
   "source": [
    "<h3>Performing PCA (Principal Component Analysis) Using Data_Decomposer Class</h3>"
   ]
  },
  {
   "cell_type": "code",
   "execution_count": 36,
   "metadata": {},
   "outputs": [
    {
     "data": {
      "image/png": "[encoded data removed]",
      "text/plain": [
       "<Figure size 640x480 with 1 Axes>"
      ]
     },
     "metadata": {},
     "output_type": "display_data"
    },
    {
     "name": "stdout",
     "output_type": "stream",
     "text": [
      "Explained variance with 6 components: 84.12%\n"
     ]
    }
   ],
   "source": [
    "decomposer.observe(method=\"pca\",data_array=encoded_combined_data,check=6)"
   ]
  },
  {
   "cell_type": "code",
   "execution_count": 37,
   "metadata": {},
   "outputs": [
    {
     "name": "stdout",
     "output_type": "stream",
     "text": [
      "PCA object dumped to: preprocessing_files/pca.pkl\n"
     ]
    }
   ],
   "source": [
    "features=decomposer.apply_and_save(method=\"pca\",\n",
    "                                   num_components=6,\n",
    "                                   data_array=encoded_combined_data,\n",
    "                                   save_location_pkl=\"preprocessing_files/pca.pkl\")"
   ]
  },
  {
   "cell_type": "code",
   "execution_count": 38,
   "metadata": {},
   "outputs": [
    {
     "data": {
      "text/plain": [
       "(2764, 6)"
      ]
     },
     "execution_count": 38,
     "metadata": {},
     "output_type": "execute_result"
    }
   ],
   "source": [
    "features.shape"
   ]
  },
  {
   "cell_type": "code",
   "execution_count": 39,
   "metadata": {},
   "outputs": [
    {
     "data": {
      "text/plain": [
       "array([ 0.03422626,  1.16565024, -0.297874  ,  0.2780413 , -0.18282466,\n",
       "        0.09169464])"
      ]
     },
     "execution_count": 39,
     "metadata": {},
     "output_type": "execute_result"
    }
   ],
   "source": [
    "features[1]"
   ]
  },
  {
   "cell_type": "markdown",
   "metadata": {},
   "source": [
    "<h3>Now we will just train our model</h3>"
   ]
  },
  {
   "cell_type": "code",
   "execution_count": 40,
   "metadata": {},
   "outputs": [],
   "source": [
    "x_train,x_test,y_train,y_test=train_test_split(features,labels,test_size=0.2)"
   ]
  },
  {
   "cell_type": "code",
   "execution_count": 42,
   "metadata": {},
   "outputs": [
    {
     "name": "stderr",
     "output_type": "stream",
     "text": [
      "2023-11-15 11:49:15.377560: I tensorflow/compiler/xla/stream_executor/cuda/cuda_gpu_executor.cc:995] successful NUMA node read from SysFS had negative value (-1), but there must be at least one NUMA node, so returning NUMA node zero. See more at https://github.com/torvalds/linux/blob/v6.0/Documentation/ABI/testing/sysfs-bus-pci#L344-L355\n",
      "2023-11-15 11:49:15.378057: W tensorflow/core/common_runtime/gpu/gpu_device.cc:1960] Cannot dlopen some GPU libraries. Please make sure the missing libraries mentioned above are installed properly if you would like to use GPU. Follow the guide at https://www.tensorflow.org/install/gpu for how to download and setup the required libraries for your platform.\n",
      "Skipping registering GPU devices...\n"
     ]
    }
   ],
   "source": [
    "model=keras.Sequential([\n",
    "   keras.layers.Input((6,)),\n",
    "   keras.layers.Dense(16,activation=\"relu\"),\n",
    "   keras.layers.Dropout(0.3),\n",
    "   keras.layers.Dense(1,activation=\"sigmoid\")\n",
    " ])"
   ]
  },
  {
   "cell_type": "code",
   "execution_count": 43,
   "metadata": {},
   "outputs": [],
   "source": [
    "model.compile(optimizer=\"adam\",loss=\"binary_crossentropy\",metrics=[\"accuracy\"])"
   ]
  },
  {
   "cell_type": "code",
   "execution_count": 44,
   "metadata": {},
   "outputs": [
    {
     "name": "stdout",
     "output_type": "stream",
     "text": [
      "Epoch 1/100\n",
      "70/70 [==============================] - 0s 1ms/step - loss: 0.7022 - accuracy: 0.5509\n",
      "Epoch 2/100\n",
      "70/70 [==============================] - 0s 814us/step - loss: 0.6775 - accuracy: 0.5911\n",
      "Epoch 3/100\n",
      "70/70 [==============================] - 0s 704us/step - loss: 0.6701 - accuracy: 0.5934\n",
      "Epoch 4/100\n",
      "70/70 [==============================] - 0s 644us/step - loss: 0.6578 - accuracy: 0.6364\n",
      "Epoch 5/100\n",
      "70/70 [==============================] - 0s 810us/step - loss: 0.6499 - accuracy: 0.6418\n",
      "Epoch 6/100\n",
      "70/70 [==============================] - 0s 782us/step - loss: 0.6393 - accuracy: 0.6630\n",
      "Epoch 7/100\n",
      "70/70 [==============================] - 0s 674us/step - loss: 0.6349 - accuracy: 0.6468\n",
      "Epoch 8/100\n",
      "70/70 [==============================] - 0s 652us/step - loss: 0.6295 - accuracy: 0.6721\n",
      "Epoch 9/100\n",
      "70/70 [==============================] - 0s 631us/step - loss: 0.6253 - accuracy: 0.6757\n",
      "Epoch 10/100\n",
      "70/70 [==============================] - 0s 677us/step - loss: 0.6236 - accuracy: 0.6802\n",
      "Epoch 11/100\n",
      "70/70 [==============================] - 0s 801us/step - loss: 0.6232 - accuracy: 0.6775\n",
      "Epoch 12/100\n",
      "70/70 [==============================] - 0s 683us/step - loss: 0.6189 - accuracy: 0.6753\n",
      "Epoch 13/100\n",
      "70/70 [==============================] - 0s 1ms/step - loss: 0.6186 - accuracy: 0.6753\n",
      "Epoch 14/100\n",
      "70/70 [==============================] - 0s 656us/step - loss: 0.6185 - accuracy: 0.6725\n",
      "Epoch 15/100\n",
      "70/70 [==============================] - 0s 692us/step - loss: 0.6184 - accuracy: 0.6712\n",
      "Epoch 16/100\n",
      "70/70 [==============================] - 0s 817us/step - loss: 0.6084 - accuracy: 0.6866\n",
      "Epoch 17/100\n",
      "70/70 [==============================] - 0s 656us/step - loss: 0.6075 - accuracy: 0.6811\n",
      "Epoch 18/100\n",
      "70/70 [==============================] - 0s 636us/step - loss: 0.6050 - accuracy: 0.6762\n",
      "Epoch 19/100\n",
      "70/70 [==============================] - 0s 643us/step - loss: 0.5949 - accuracy: 0.6829\n",
      "Epoch 20/100\n",
      "70/70 [==============================] - 0s 658us/step - loss: 0.6036 - accuracy: 0.6789\n",
      "Epoch 21/100\n",
      "70/70 [==============================] - 0s 817us/step - loss: 0.6040 - accuracy: 0.6816\n",
      "Epoch 22/100\n",
      "70/70 [==============================] - 0s 677us/step - loss: 0.6000 - accuracy: 0.6902\n",
      "Epoch 23/100\n",
      "70/70 [==============================] - 0s 639us/step - loss: 0.5997 - accuracy: 0.6911\n",
      "Epoch 24/100\n",
      "70/70 [==============================] - 0s 677us/step - loss: 0.5960 - accuracy: 0.6956\n",
      "Epoch 25/100\n",
      "70/70 [==============================] - 0s 669us/step - loss: 0.5955 - accuracy: 0.6929\n",
      "Epoch 26/100\n",
      "70/70 [==============================] - 0s 817us/step - loss: 0.5954 - accuracy: 0.6902\n",
      "Epoch 27/100\n",
      "70/70 [==============================] - 0s 777us/step - loss: 0.5913 - accuracy: 0.6943\n",
      "Epoch 28/100\n",
      "70/70 [==============================] - 0s 631us/step - loss: 0.5877 - accuracy: 0.6983\n",
      "Epoch 29/100\n",
      "70/70 [==============================] - 0s 681us/step - loss: 0.5916 - accuracy: 0.6879\n",
      "Epoch 30/100\n",
      "70/70 [==============================] - 0s 631us/step - loss: 0.5879 - accuracy: 0.6807\n",
      "Epoch 31/100\n",
      "70/70 [==============================] - 0s 687us/step - loss: 0.5948 - accuracy: 0.6943\n",
      "Epoch 32/100\n",
      "70/70 [==============================] - 0s 856us/step - loss: 0.5937 - accuracy: 0.6893\n",
      "Epoch 33/100\n",
      "70/70 [==============================] - 0s 754us/step - loss: 0.5858 - accuracy: 0.6961\n",
      "Epoch 34/100\n",
      "70/70 [==============================] - 0s 635us/step - loss: 0.5898 - accuracy: 0.6829\n",
      "Epoch 35/100\n",
      "70/70 [==============================] - 0s 654us/step - loss: 0.5855 - accuracy: 0.6956\n",
      "Epoch 36/100\n",
      "70/70 [==============================] - 0s 647us/step - loss: 0.5888 - accuracy: 0.6911\n",
      "Epoch 37/100\n",
      "70/70 [==============================] - 0s 705us/step - loss: 0.5860 - accuracy: 0.6906\n",
      "Epoch 38/100\n",
      "70/70 [==============================] - 0s 783us/step - loss: 0.5857 - accuracy: 0.6983\n",
      "Epoch 39/100\n",
      "70/70 [==============================] - 0s 661us/step - loss: 0.5895 - accuracy: 0.6938\n",
      "Epoch 40/100\n",
      "70/70 [==============================] - 0s 629us/step - loss: 0.5883 - accuracy: 0.7001\n",
      "Epoch 41/100\n",
      "70/70 [==============================] - 0s 630us/step - loss: 0.5907 - accuracy: 0.6906\n",
      "Epoch 42/100\n",
      "70/70 [==============================] - 0s 641us/step - loss: 0.5878 - accuracy: 0.6965\n",
      "Epoch 43/100\n",
      "70/70 [==============================] - 0s 710us/step - loss: 0.5874 - accuracy: 0.7010\n",
      "Epoch 44/100\n",
      "70/70 [==============================] - 0s 850us/step - loss: 0.5888 - accuracy: 0.7010\n",
      "Epoch 45/100\n",
      "70/70 [==============================] - 0s 1ms/step - loss: 0.5838 - accuracy: 0.7105\n",
      "Epoch 46/100\n",
      "70/70 [==============================] - 0s 646us/step - loss: 0.5790 - accuracy: 0.7051\n",
      "Epoch 47/100\n",
      "70/70 [==============================] - 0s 645us/step - loss: 0.5808 - accuracy: 0.7033\n",
      "Epoch 48/100\n",
      "70/70 [==============================] - 0s 655us/step - loss: 0.5814 - accuracy: 0.7042\n",
      "Epoch 49/100\n",
      "70/70 [==============================] - 0s 678us/step - loss: 0.5821 - accuracy: 0.7042\n",
      "Epoch 50/100\n",
      "70/70 [==============================] - 0s 752us/step - loss: 0.5812 - accuracy: 0.7074\n",
      "Epoch 51/100\n",
      "70/70 [==============================] - 0s 631us/step - loss: 0.5738 - accuracy: 0.7105\n",
      "Epoch 52/100\n",
      "70/70 [==============================] - 0s 631us/step - loss: 0.5769 - accuracy: 0.7078\n",
      "Epoch 53/100\n",
      "70/70 [==============================] - 0s 660us/step - loss: 0.5782 - accuracy: 0.7137\n",
      "Epoch 54/100\n",
      "70/70 [==============================] - 0s 656us/step - loss: 0.5815 - accuracy: 0.7042\n",
      "Epoch 55/100\n",
      "70/70 [==============================] - 0s 652us/step - loss: 0.5698 - accuracy: 0.7133\n",
      "Epoch 56/100\n",
      "70/70 [==============================] - 0s 655us/step - loss: 0.5717 - accuracy: 0.7006\n",
      "Epoch 57/100\n",
      "70/70 [==============================] - 0s 863us/step - loss: 0.5743 - accuracy: 0.7110\n",
      "Epoch 58/100\n",
      "70/70 [==============================] - 0s 800us/step - loss: 0.5770 - accuracy: 0.7105\n",
      "Epoch 59/100\n",
      "70/70 [==============================] - 0s 645us/step - loss: 0.5694 - accuracy: 0.7028\n",
      "Epoch 60/100\n",
      "70/70 [==============================] - 0s 652us/step - loss: 0.5731 - accuracy: 0.7010\n",
      "Epoch 61/100\n",
      "70/70 [==============================] - 0s 626us/step - loss: 0.5756 - accuracy: 0.7101\n",
      "Epoch 62/100\n",
      "70/70 [==============================] - 0s 645us/step - loss: 0.5734 - accuracy: 0.7069\n",
      "Epoch 63/100\n",
      "70/70 [==============================] - 0s 643us/step - loss: 0.5742 - accuracy: 0.7092\n",
      "Epoch 64/100\n",
      "70/70 [==============================] - 0s 635us/step - loss: 0.5791 - accuracy: 0.7015\n",
      "Epoch 65/100\n",
      "70/70 [==============================] - 0s 632us/step - loss: 0.5751 - accuracy: 0.7051\n",
      "Epoch 66/100\n",
      "70/70 [==============================] - 0s 634us/step - loss: 0.5746 - accuracy: 0.7065\n",
      "Epoch 67/100\n",
      "70/70 [==============================] - 0s 695us/step - loss: 0.5720 - accuracy: 0.7047\n",
      "Epoch 68/100\n",
      "70/70 [==============================] - 0s 656us/step - loss: 0.5703 - accuracy: 0.7146\n",
      "Epoch 69/100\n",
      "70/70 [==============================] - 0s 697us/step - loss: 0.5752 - accuracy: 0.7060\n",
      "Epoch 70/100\n",
      "70/70 [==============================] - 0s 830us/step - loss: 0.5703 - accuracy: 0.7083\n",
      "Epoch 71/100\n",
      "70/70 [==============================] - 0s 723us/step - loss: 0.5723 - accuracy: 0.7019\n",
      "Epoch 72/100\n",
      "70/70 [==============================] - 0s 632us/step - loss: 0.5780 - accuracy: 0.7128\n",
      "Epoch 73/100\n",
      "70/70 [==============================] - 0s 646us/step - loss: 0.5741 - accuracy: 0.7101\n",
      "Epoch 74/100\n",
      "70/70 [==============================] - 0s 668us/step - loss: 0.5776 - accuracy: 0.7092\n",
      "Epoch 75/100\n",
      "70/70 [==============================] - 0s 692us/step - loss: 0.5722 - accuracy: 0.7096\n",
      "Epoch 76/100\n",
      "70/70 [==============================] - 0s 646us/step - loss: 0.5642 - accuracy: 0.7151\n",
      "Epoch 77/100\n",
      "70/70 [==============================] - 0s 662us/step - loss: 0.5684 - accuracy: 0.7114\n",
      "Epoch 78/100\n",
      "70/70 [==============================] - 0s 675us/step - loss: 0.5709 - accuracy: 0.7069\n",
      "Epoch 79/100\n",
      "70/70 [==============================] - 0s 668us/step - loss: 0.5725 - accuracy: 0.7101\n",
      "Epoch 80/100\n",
      "70/70 [==============================] - 0s 660us/step - loss: 0.5726 - accuracy: 0.7105\n",
      "Epoch 81/100\n",
      "70/70 [==============================] - 0s 667us/step - loss: 0.5772 - accuracy: 0.7096\n",
      "Epoch 82/100\n",
      "70/70 [==============================] - 0s 672us/step - loss: 0.5723 - accuracy: 0.7096\n",
      "Epoch 83/100\n",
      "70/70 [==============================] - 0s 658us/step - loss: 0.5715 - accuracy: 0.7151\n",
      "Epoch 84/100\n",
      "70/70 [==============================] - 0s 652us/step - loss: 0.5712 - accuracy: 0.7123\n",
      "Epoch 85/100\n",
      "70/70 [==============================] - 0s 660us/step - loss: 0.5699 - accuracy: 0.7065\n",
      "Epoch 86/100\n",
      "70/70 [==============================] - 0s 671us/step - loss: 0.5676 - accuracy: 0.7119\n",
      "Epoch 87/100\n",
      "70/70 [==============================] - 0s 636us/step - loss: 0.5685 - accuracy: 0.7078\n",
      "Epoch 88/100\n",
      "70/70 [==============================] - 0s 679us/step - loss: 0.5678 - accuracy: 0.7137\n",
      "Epoch 89/100\n",
      "70/70 [==============================] - 0s 649us/step - loss: 0.5632 - accuracy: 0.7078\n",
      "Epoch 90/100\n",
      "70/70 [==============================] - 0s 660us/step - loss: 0.5694 - accuracy: 0.7096\n",
      "Epoch 91/100\n",
      "70/70 [==============================] - 0s 645us/step - loss: 0.5732 - accuracy: 0.7110\n",
      "Epoch 92/100\n",
      "70/70 [==============================] - 0s 649us/step - loss: 0.5664 - accuracy: 0.7164\n",
      "Epoch 93/100\n",
      "70/70 [==============================] - 0s 1ms/step - loss: 0.5722 - accuracy: 0.7087\n",
      "Epoch 94/100\n",
      "70/70 [==============================] - 0s 642us/step - loss: 0.5762 - accuracy: 0.7101\n",
      "Epoch 95/100\n",
      "70/70 [==============================] - 0s 671us/step - loss: 0.5605 - accuracy: 0.7178\n",
      "Epoch 96/100\n",
      "70/70 [==============================] - 0s 697us/step - loss: 0.5695 - accuracy: 0.7160\n",
      "Epoch 97/100\n",
      "70/70 [==============================] - 0s 650us/step - loss: 0.5672 - accuracy: 0.7101\n",
      "Epoch 98/100\n",
      "70/70 [==============================] - 0s 641us/step - loss: 0.5689 - accuracy: 0.7133\n",
      "Epoch 99/100\n",
      "70/70 [==============================] - 0s 638us/step - loss: 0.5614 - accuracy: 0.7164\n",
      "Epoch 100/100\n",
      "70/70 [==============================] - 0s 651us/step - loss: 0.5704 - accuracy: 0.7123\n"
     ]
    },
    {
     "data": {
      "text/plain": [
       "<keras.src.callbacks.History at 0x7fe2083df070>"
      ]
     },
     "execution_count": 44,
     "metadata": {},
     "output_type": "execute_result"
    }
   ],
   "source": [
    "model.fit(x_train,y_train,epochs=100)"
   ]
  },
  {
   "cell_type": "code",
   "execution_count": 45,
   "metadata": {},
   "outputs": [
    {
     "name": "stdout",
     "output_type": "stream",
     "text": [
      "18/18 [==============================] - 0s 634us/step - loss: 0.5391 - accuracy: 0.7577\n"
     ]
    },
    {
     "data": {
      "text/plain": [
       "[0.5391373634338379, 0.7576853632926941]"
      ]
     },
     "execution_count": 45,
     "metadata": {},
     "output_type": "execute_result"
    }
   ],
   "source": [
    "model.evaluate(x_test,y_test)"
   ]
  },
  {
   "cell_type": "markdown",
   "metadata": {},
   "source": [
    "<h3> Now it is time to see the main benefit of using this approach. When we used apply_and_save  method, our fitted objects were dumped to a location.\n",
    "Now we just need those objects and we can transform any new data in just a few lines of code</h3>"
   ]
  },
  {
   "cell_type": "code",
   "execution_count": 66,
   "metadata": {},
   "outputs": [
    {
     "data": {
      "text/html": [
       "<div>\n",
       "<style scoped>\n",
       "    .dataframe tbody tr th:only-of-type {\n",
       "        vertical-align: middle;\n",
       "    }\n",
       "\n",
       "    .dataframe tbody tr th {\n",
       "        vertical-align: top;\n",
       "    }\n",
       "\n",
       "    .dataframe thead th {\n",
       "        text-align: right;\n",
       "    }\n",
       "</style>\n",
       "<table border=\"1\" class=\"dataframe\">\n",
       "  <thead>\n",
       "    <tr style=\"text-align: right;\">\n",
       "      <th></th>\n",
       "      <th>Education</th>\n",
       "      <th>YearsSinceJoined</th>\n",
       "      <th>City</th>\n",
       "      <th>PaymentTier</th>\n",
       "      <th>Age</th>\n",
       "      <th>Gender</th>\n",
       "      <th>EverBenched</th>\n",
       "      <th>ExperienceInCurrentDomain</th>\n",
       "    </tr>\n",
       "  </thead>\n",
       "  <tbody>\n",
       "    <tr>\n",
       "      <th>0</th>\n",
       "      <td>Bachelors</td>\n",
       "      <td>6</td>\n",
       "      <td>Bangalore</td>\n",
       "      <td>3</td>\n",
       "      <td>34</td>\n",
       "      <td>Male</td>\n",
       "      <td>No</td>\n",
       "      <td>0</td>\n",
       "    </tr>\n",
       "  </tbody>\n",
       "</table>\n",
       "</div>"
      ],
      "text/plain": [
       "   Education  YearsSinceJoined       City  PaymentTier  Age Gender  \\\n",
       "0  Bachelors                 6  Bangalore            3   34   Male   \n",
       "\n",
       "  EverBenched  ExperienceInCurrentDomain  \n",
       "0          No                          0  "
      ]
     },
     "execution_count": 66,
     "metadata": {},
     "output_type": "execute_result"
    }
   ],
   "source": [
    "df.head(1)"
   ]
  },
  {
   "cell_type": "code",
   "execution_count": 67,
   "metadata": {},
   "outputs": [
    {
     "data": {
      "text/plain": [
       "0"
      ]
     },
     "execution_count": 67,
     "metadata": {},
     "output_type": "execute_result"
    }
   ],
   "source": [
    "labels[0]"
   ]
  },
  {
   "cell_type": "markdown",
   "metadata": {},
   "source": [
    "<h3>Now, here I just manually entered the data from the first row. Now, I am just using .load_and_apply to transfomed each array using my saved objects,\n",
    "combine them and apply my pca object on top of it. This give me the same transformation with new data  in just a a few lines of code</h3>"
   ]
  },
  {
   "cell_type": "code",
   "execution_count": 79,
   "metadata": {},
   "outputs": [
    {
     "name": "stdout",
     "output_type": "stream",
     "text": [
      "['YearsSinceJoined', 'PaymentTier', 'Age', 'ExperienceInCurrentDomain', 'Education', 'City', 'Gender', 'EverBenched']\n"
     ]
    }
   ],
   "source": [
    "print(numeric_cols+object_cols+boolean_cols)"
   ]
  },
  {
   "cell_type": "code",
   "execution_count": 72,
   "metadata": {},
   "outputs": [],
   "source": [
    "Numeric_inputs=np.array([[6,3,34,0]]) # Need to be in 2D Shapes\n",
    "Object_inputs=np.array([[\"Bachelors\",\"Bangalore\"]])\n",
    "Bool_inputs=np.array([[1,0]]) # Male , No\n",
    "\n",
    "transformed_data=np.concatenate((preprocessor.load_and_apply(\"preprocessing_files/minmaxscaler.pkl\",Numeric_inputs),\n",
    "                                                         preprocessor.load_and_apply(\"preprocessing_files/onehotencoder.pkl\",Object_inputs),\n",
    "                                                         Bool_inputs),axis=1)\n",
    "\n",
    "transformed__decomposed_data=preprocessor.load_and_apply(\"preprocessing_files/pca.pkl\",transformed_data)\n"
   ]
  },
  {
   "cell_type": "code",
   "execution_count": 74,
   "metadata": {},
   "outputs": [
    {
     "data": {
      "text/plain": [
       "array([[-0.76859904, -0.42268747,  0.25775625, -0.08156041, -0.08708524,\n",
       "        -0.41015272]])"
      ]
     },
     "execution_count": 74,
     "metadata": {},
     "output_type": "execute_result"
    }
   ],
   "source": [
    "transformed__decomposed_data"
   ]
  },
  {
   "cell_type": "markdown",
   "metadata": {},
   "source": [
    "<h3>Now as you can see my prediction is correct. This is useful when created an inference or API for your program </h3>"
   ]
  },
  {
   "cell_type": "code",
   "execution_count": 76,
   "metadata": {},
   "outputs": [
    {
     "name": "stdout",
     "output_type": "stream",
     "text": [
      "1/1 [==============================] - 0s 16ms/step\n",
      "Employee Don't leave\n"
     ]
    }
   ],
   "source": [
    "if model.predict(transformed__decomposed_data)>0.5:\n",
    "    print(\"Employee leaves\")\n",
    "else:\n",
    "    print(\"Employee Don't leave\")"
   ]
  }
 ],
 "metadata": {
  "kernelspec": {
   "display_name": "core-ml",
   "language": "python",
   "name": "python3"
  },
  "language_info": {
   "codemirror_mode": {
    "name": "ipython",
    "version": 3
   },
   "file_extension": ".py",
   "mimetype": "text/x-python",
   "name": "python",
   "nbconvert_exporter": "python",
   "pygments_lexer": "ipython3",
   "version": "3.9.18"
  },
  "orig_nbformat": 4
 },
 "nbformat": 4,
 "nbformat_minor": 2
}
